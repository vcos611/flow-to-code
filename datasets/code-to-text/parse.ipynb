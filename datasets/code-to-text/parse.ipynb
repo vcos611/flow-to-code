{
 "cells": [
  {
   "cell_type": "code",
   "execution_count": 1,
   "metadata": {},
   "outputs": [],
   "source": [
    "import json\n",
    "import os\n",
    "from tqdm import tqdm\n",
    "import csv\n"
   ]
  },
  {
   "cell_type": "code",
   "execution_count": 2,
   "metadata": {},
   "outputs": [],
   "source": [
    "os.system(\"rm -rf codes\")\n",
    "os.makedirs(\"codes\",exist_ok=True)"
   ]
  },
  {
   "cell_type": "code",
   "execution_count": 3,
   "metadata": {},
   "outputs": [],
   "source": [
    "prob = open(\"probs.csv\", \"w\", encoding=\"utf-8\", newline=\"\")\n",
    "writer = csv.writer(prob)"
   ]
  },
  {
   "cell_type": "code",
   "execution_count": 4,
   "metadata": {},
   "outputs": [],
   "source": [
    "code_i = 1"
   ]
  },
  {
   "cell_type": "code",
   "execution_count": 5,
   "metadata": {},
   "outputs": [
    {
     "name": "stdout",
     "output_type": "stream",
     "text": [
      "Parsing Train data:\n"
     ]
    },
    {
     "name": "stderr",
     "output_type": "stream",
     "text": [
      "Generating Codes: 100%|██████████| 251820/251820 [00:08<00:00, 31266.82it/s]"
     ]
    },
    {
     "name": "stdout",
     "output_type": "stream",
     "text": [
      "9586 code files generated successfully\n"
     ]
    },
    {
     "name": "stderr",
     "output_type": "stream",
     "text": [
      "\n"
     ]
    }
   ],
   "source": [
    "print(\"Parsing Train data:\")\n",
    "\n",
    "i = 1\n",
    "with open(\"./source/train.jsonl\",'r',encoding=\"utf\") as file:\n",
    "    lines = list(file)\n",
    "    for line in tqdm(lines, desc=\"Generating Codes\"):\n",
    "        data = json.loads(line)\n",
    "        if len(data['code']) < 200:\n",
    "            with open(f\"./codes/{code_i}.py\",'w',encoding=\"utf\") as file:\n",
    "\n",
    "                cod = data['code'].split('\"\"\"')\n",
    "                if len(cod)==1:\n",
    "                    cod = data['code'].split(\"'''\")\n",
    "                \n",
    "                if len(cod)!=1:\n",
    "                    cod = cod[0]+cod[2]\n",
    "                else:\n",
    "                    cod = cod[0]\n",
    "\n",
    "                file.write(cod)\n",
    "            writer.writerow([f\"{code_i}\",data['docstring']])\n",
    "            i += 1\n",
    "            code_i+=1\n",
    "\n",
    "print(f\"{i-1} code files generated successfully\")"
   ]
  },
  {
   "cell_type": "code",
   "execution_count": 6,
   "metadata": {},
   "outputs": [
    {
     "name": "stdout",
     "output_type": "stream",
     "text": [
      "Parsing Test data:\n"
     ]
    },
    {
     "name": "stderr",
     "output_type": "stream",
     "text": [
      "Generating Codes: 100%|██████████| 14918/14918 [00:00<00:00, 27904.38it/s]"
     ]
    },
    {
     "name": "stdout",
     "output_type": "stream",
     "text": [
      "582 code files generated successfully\n"
     ]
    },
    {
     "name": "stderr",
     "output_type": "stream",
     "text": [
      "\n"
     ]
    }
   ],
   "source": [
    "print(\"Parsing Test data:\")\n",
    "\n",
    "i = 1\n",
    "with open(\"./source/test.jsonl\",'r',encoding=\"utf\") as file:\n",
    "    lines = list(file)\n",
    "    for line in tqdm(lines, desc=\"Generating Codes\"):\n",
    "        data = json.loads(line)\n",
    "        if len(data['code']) < 200:\n",
    "            with open(f\"./codes/{code_i}.py\",'w',encoding=\"utf\") as file:\n",
    "\n",
    "                cod = data['code'].split('\"\"\"')\n",
    "                if len(cod)==1:\n",
    "                    cod = data['code'].split(\"'''\")\n",
    "                \n",
    "                if len(cod)!=1:\n",
    "                    cod = cod[0]+cod[2]\n",
    "                else:\n",
    "                    cod = cod[0]\n",
    "\n",
    "                file.write(cod)\n",
    "            writer.writerow([f\"{code_i}\",data['docstring']])\n",
    "            i += 1\n",
    "            code_i+=1\n",
    "\n",
    "print(f\"{i-1} code files generated successfully\")"
   ]
  },
  {
   "cell_type": "code",
   "execution_count": 7,
   "metadata": {},
   "outputs": [
    {
     "name": "stdout",
     "output_type": "stream",
     "text": [
      "Parsing Validation data:\n"
     ]
    },
    {
     "name": "stderr",
     "output_type": "stream",
     "text": [
      "Generating Codes: 100%|██████████| 13914/13914 [00:00<00:00, 29125.90it/s]"
     ]
    },
    {
     "name": "stdout",
     "output_type": "stream",
     "text": [
      "539 code files generated successfully\n"
     ]
    },
    {
     "name": "stderr",
     "output_type": "stream",
     "text": [
      "\n"
     ]
    }
   ],
   "source": [
    "print(\"Parsing Validation data:\")\n",
    "\n",
    "i = 1\n",
    "with open(\"./source/valid.jsonl\",'r',encoding=\"utf\") as file:\n",
    "    lines = list(file)\n",
    "    for line in tqdm(lines, desc=\"Generating Codes\"):\n",
    "        data = json.loads(line)\n",
    "        if len(data['code']) < 200:\n",
    "            with open(f\"./codes/{code_i}.py\",'w',encoding=\"utf\") as file:\n",
    "\n",
    "                cod = data['code'].split('\"\"\"')\n",
    "                if len(cod)==1:\n",
    "                    cod = data['code'].split(\"'''\")\n",
    "                \n",
    "                if len(cod)!=1:\n",
    "                    cod = cod[0]+cod[2]\n",
    "                else:\n",
    "                    cod = cod[0]\n",
    "\n",
    "                file.write(cod)\n",
    "            writer.writerow([f\"{code_i}\",data['docstring']])\n",
    "            i += 1\n",
    "            code_i+=1\n",
    "\n",
    "print(f\"{i-1} code files generated successfully\")"
   ]
  },
  {
   "cell_type": "code",
   "execution_count": 8,
   "metadata": {},
   "outputs": [],
   "source": [
    "prob.close()"
   ]
  }
 ],
 "metadata": {
  "kernelspec": {
   "display_name": "Python 3.8.10 64-bit",
   "language": "python",
   "name": "python3"
  },
  "language_info": {
   "codemirror_mode": {
    "name": "ipython",
    "version": 3
   },
   "file_extension": ".py",
   "mimetype": "text/x-python",
   "name": "python",
   "nbconvert_exporter": "python",
   "pygments_lexer": "ipython3",
   "version": "3.8.10"
  },
  "orig_nbformat": 4,
  "vscode": {
   "interpreter": {
    "hash": "e7370f93d1d0cde622a1f8e1c04877d8463912d04d973331ad4851f04de6915a"
   }
  }
 },
 "nbformat": 4,
 "nbformat_minor": 2
}
