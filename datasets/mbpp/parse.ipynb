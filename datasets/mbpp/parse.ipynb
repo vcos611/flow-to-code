{
 "cells": [
  {
   "cell_type": "code",
   "execution_count": 1,
   "metadata": {},
   "outputs": [],
   "source": [
    "import json\n",
    "from tqdm import tqdm\n",
    "import os\n",
    "import csv"
   ]
  },
  {
   "cell_type": "code",
   "execution_count": 2,
   "metadata": {},
   "outputs": [
    {
     "data": {
      "text/plain": [
       "{'text': 'Write a function to find the minimum cost path to reach (m, n) from (0, 0) for the given cost matrix cost[][] and a position (m, n) in cost[][].',\n",
       " 'code': 'R = 3\\r\\nC = 3\\r\\ndef min_cost(cost, m, n): \\r\\n\\ttc = [[0 for x in range(C)] for x in range(R)] \\r\\n\\ttc[0][0] = cost[0][0] \\r\\n\\tfor i in range(1, m+1): \\r\\n\\t\\ttc[i][0] = tc[i-1][0] + cost[i][0] \\r\\n\\tfor j in range(1, n+1): \\r\\n\\t\\ttc[0][j] = tc[0][j-1] + cost[0][j] \\r\\n\\tfor i in range(1, m+1): \\r\\n\\t\\tfor j in range(1, n+1): \\r\\n\\t\\t\\ttc[i][j] = min(tc[i-1][j-1], tc[i-1][j], tc[i][j-1]) + cost[i][j] \\r\\n\\treturn tc[m][n]',\n",
       " 'task_id': 1,\n",
       " 'test_setup_code': '',\n",
       " 'test_list': ['assert min_cost([[1, 2, 3], [4, 8, 2], [1, 5, 3]], 2, 2) == 8',\n",
       "  'assert min_cost([[2, 3, 4], [5, 9, 3], [2, 6, 4]], 2, 2) == 12',\n",
       "  'assert min_cost([[3, 4, 5], [6, 10, 4], [3, 7, 5]], 2, 2) == 16'],\n",
       " 'challenge_test_list': []}"
      ]
     },
     "execution_count": 2,
     "metadata": {},
     "output_type": "execute_result"
    }
   ],
   "source": [
    "with open(\"./source/mbpp.jsonl\", encoding=\"utf-8\") as file:\n",
    "    data = [json.loads(line) for line in file]\n",
    "\n",
    "data[0]\n"
   ]
  },
  {
   "cell_type": "code",
   "execution_count": 3,
   "metadata": {},
   "outputs": [
    {
     "name": "stderr",
     "output_type": "stream",
     "text": [
      "parsing samples:: 100%|██████████| 974/974 [00:00<00:00, 4500.06it/s]\n"
     ]
    }
   ],
   "source": [
    "os.system(\"rm -rf codes\")\n",
    "os.makedirs(\"codes\", exist_ok=True)\n",
    "\n",
    "prob = open(\"probs.csv\", \"w\", encoding=\"utf-8\", newline=\"\")\n",
    "writer = csv.writer(prob)\n",
    "\n",
    "for sample in tqdm(data, desc='parsing samples:'):\n",
    "    text = sample['text']\n",
    "    code = sample['code']\n",
    "    id = sample['task_id']\n",
    "    writer.writerow([id, text])\n",
    "    with open(f\"codes/{id}.py\", \"w\", encoding=\"utf-8\", newline=\"\") as file:\n",
    "        file.write(f\"# {text}\\n\")\n",
    "        file.write(code)\n",
    "\n",
    "prob.close()\n"
   ]
  }
 ],
 "metadata": {
  "kernelspec": {
   "display_name": "Python 3.8.10 64-bit",
   "language": "python",
   "name": "python3"
  },
  "language_info": {
   "codemirror_mode": {
    "name": "ipython",
    "version": 3
   },
   "file_extension": ".py",
   "mimetype": "text/x-python",
   "name": "python",
   "nbconvert_exporter": "python",
   "pygments_lexer": "ipython3",
   "version": "3.8.10"
  },
  "orig_nbformat": 4,
  "vscode": {
   "interpreter": {
    "hash": "e7370f93d1d0cde622a1f8e1c04877d8463912d04d973331ad4851f04de6915a"
   }
  }
 },
 "nbformat": 4,
 "nbformat_minor": 2
}
